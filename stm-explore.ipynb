{
 "cells": [
  {
   "cell_type": "code",
   "execution_count": null,
   "metadata": {},
   "outputs": [],
   "source": [
    "import pandas as pd\n",
    "import numpy as np\n",
    "from wordcloud import WordCloud, STOPWORDS, ImageColorGenerator\n",
    "stopwords = set(STOPWORDS)\n",
    "import matplotlib.pyplot as plt"
   ]
  },
  {
   "cell_type": "code",
   "execution_count": null,
   "metadata": {},
   "outputs": [],
   "source": [
    "stopwords.update([\"imag\", \"lena\", \"lenna\", \"image\", \"pictur\", \"picture\", \"img\"])"
   ]
  },
  {
   "cell_type": "code",
   "execution_count": null,
   "metadata": {},
   "outputs": [],
   "source": [
    "def clean_data(df, textCol, cleanTextCol):\n",
    "\n",
    "    # remove stopwords and non alphanumeric; lower case\n",
    "    df[cleanTextCol] = df[textCol].apply(lambda x: x.lower())\n",
    "    df[cleanTextCol] = df[cleanTextCol].apply(lambda x: \" \".join(x for x in x.split() if x not in stopwords))\n",
    "#     df[cleanTextCol] = df[cleanTextCol].str.replace('[^A-Za-z0-9 ]+','')    \n",
    "    df[cleanTextCol] = df[cleanTextCol].str.replace('[^A-Za-z ]+','')   \n",
    "    df[cleanTextCol] = df[cleanTextCol].str.replace('x', '')\n",
    "\n",
    "    \n",
    "    return df"
   ]
  },
  {
   "cell_type": "code",
   "execution_count": null,
   "metadata": {},
   "outputs": [],
   "source": [
    "# Load Data and drop duplicate links\n",
    "df = pd.read_csv(\"data/all_final.csv\")\n",
    "df = df.drop_duplicates(subset=['url'])\n",
    "\n",
    "df = df.dropna(subset=['domain_end', 'dataset'])\n",
    "\n",
    "print(len(df))\n",
    "display(df['descrip_lang'].value_counts().head())"
   ]
  },
  {
   "cell_type": "code",
   "execution_count": null,
   "metadata": {},
   "outputs": [],
   "source": [
    "# Filter for English\n",
    "\n",
    "df = df[df['descrip_lang']==\"en\"]\n",
    "print(len(df))\n",
    "display(df['descrip_lang'].value_counts().head())"
   ]
  },
  {
   "cell_type": "code",
   "execution_count": null,
   "metadata": {},
   "outputs": [],
   "source": [
    "df = clean_data(df, 'description', 'tokens')"
   ]
  },
  {
   "cell_type": "code",
   "execution_count": null,
   "metadata": {},
   "outputs": [],
   "source": [
    "df['year'] = df['year'].apply(lambda x: str(x).split(\".\")[0])\n",
    "df = df[df['year']!=\"nan\"]\n",
    "df = df[df['year']>=\"2000\"]"
   ]
  },
  {
   "cell_type": "code",
   "execution_count": null,
   "metadata": {},
   "outputs": [],
   "source": [
    "df['tokens_first'] = df['tokens'].apply(lambda x: ' '.join(x.split()[:50]))\n",
    "cols = ['dataset', 'url', 'title', 'domain', 'domain_end', 'year', 'tokens', 'tokens_first']\n",
    "df = df[cols]"
   ]
  },
  {
   "cell_type": "code",
   "execution_count": null,
   "metadata": {},
   "outputs": [],
   "source": [
    "df.head(1)"
   ]
  },
  {
   "cell_type": "code",
   "execution_count": null,
   "metadata": {
    "scrolled": true
   },
   "outputs": [],
   "source": [
    "df['year'].value_counts()"
   ]
  },
  {
   "cell_type": "markdown",
   "metadata": {},
   "source": [
    "# STM"
   ]
  },
  {
   "cell_type": "code",
   "execution_count": null,
   "metadata": {
    "scrolled": true
   },
   "outputs": [],
   "source": [
    "%load_ext rpy2.ipython\n",
    "%R -i df\n",
    "%R df$dataset <- as.factor(df$dataset)\n",
    "%R df$domain_end <- as.factor(df$domain_end)\n",
    "%R df$year <- as.factor(df$year)"
   ]
  },
  {
   "cell_type": "code",
   "execution_count": null,
   "metadata": {
    "scrolled": true
   },
   "outputs": [],
   "source": [
    "%%R\n",
    "\n",
    "library(stm)\n",
    "library(dplyr)\n",
    "library(broom)\n",
    "\n",
    "processed <- textProcessor(df$tokens, metadata=df)\n",
    "\n",
    "out <- prepDocuments(processed$documents, processed$vocab, processed$meta)\n",
    "docs <- out$documents\n",
    "vocab <-out$vocab\n",
    "meta <- out$meta\n",
    "\n",
    "print(levels(meta$domain_end))"
   ]
  },
  {
   "cell_type": "code",
   "execution_count": null,
   "metadata": {
    "scrolled": true
   },
   "outputs": [],
   "source": [
    "%%R\n",
    "\n",
    "mod.out <- stm(docs, vocab, K=5, prevalence=~domain_end+dataset+year, max.em.its=500, data=meta, init.type=\"Spectral\", seed=1)"
   ]
  },
  {
   "cell_type": "code",
   "execution_count": null,
   "metadata": {},
   "outputs": [],
   "source": [
    "%%R\n",
    "mod.out"
   ]
  },
  {
   "cell_type": "code",
   "execution_count": null,
   "metadata": {
    "scrolled": false
   },
   "outputs": [],
   "source": [
    "%%R\n",
    "\n",
    "plot(mod.out, type=c(\"summary\"), labeltype=c(\"prob\"), width=120)\n",
    "plot(mod.out, type=c(\"labels\"), labeltype=c(\"prob\"), width=120)\n",
    "\n",
    "plot(mod.out, type=c(\"summary\"), labeltype=c(\"frex\"))\n",
    "plot(mod.out, type=c(\"labels\"), labeltype=c(\"frex\"), width=120)\n",
    "\n",
    "plot(mod.out, type=c(\"summary\"), labeltype=c(\"score\"))\n",
    "plot(mod.out, type=c(\"labels\"), labeltype=c(\"score\"), width=120)"
   ]
  },
  {
   "cell_type": "code",
   "execution_count": null,
   "metadata": {},
   "outputs": [],
   "source": [
    "%%R\n",
    "\n",
    "mod.out.corr <- topicCorr(mod.out)\n",
    "plot(mod.out.corr)"
   ]
  },
  {
   "cell_type": "code",
   "execution_count": null,
   "metadata": {},
   "outputs": [],
   "source": [
    "%%R\n",
    "topicQuality(mod.out, docs, M=40)"
   ]
  }
 ],
 "metadata": {
  "kernelspec": {
   "display_name": "Python 3",
   "language": "python",
   "name": "python3"
  },
  "language_info": {
   "codemirror_mode": {
    "name": "ipython",
    "version": 3
   },
   "file_extension": ".py",
   "mimetype": "text/x-python",
   "name": "python",
   "nbconvert_exporter": "python",
   "pygments_lexer": "ipython3",
   "version": "3.8.2"
  }
 },
 "nbformat": 4,
 "nbformat_minor": 4
}
